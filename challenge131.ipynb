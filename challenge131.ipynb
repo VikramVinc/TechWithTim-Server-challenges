{
  "nbformat": 4,
  "nbformat_minor": 0,
  "metadata": {
    "colab": {
      "provenance": [],
      "authorship_tag": "ABX9TyO/3tJ1aSMsAzUmsa+36erd",
      "include_colab_link": true
    },
    "kernelspec": {
      "name": "python3",
      "display_name": "Python 3"
    },
    "language_info": {
      "name": "python"
    }
  },
  "cells": [
    {
      "cell_type": "markdown",
      "metadata": {
        "id": "view-in-github",
        "colab_type": "text"
      },
      "source": [
        "<a href=\"https://colab.research.google.com/github/VikramVinc/TechWithTim-Server-challenges/blob/main/Copy%20of%20challenge.ipynb\" target=\"_parent\"><img src=\"https://colab.research.google.com/assets/colab-badge.svg\" alt=\"Open In Colab\"/></a>"
      ]
    },
    {
      "cell_type": "code",
      "execution_count": null,
      "metadata": {
        "id": "rxN_xOUHya70"
      },
      "outputs": [],
      "source": [
        "\n",
        "T = int(input())\n",
        "for _ in range(T):\n",
        "    user_input= input()\n",
        "    my_list1 = []\n",
        "    index = -1\n",
        "    for x in user_input:\n",
        "         if ord(x) >= 65 and ord(x) <= 90:\n",
        "            my_list1.append(user_input[index].upper())\n",
        "         else:\n",
        "            my_list1.append(user_input[index].lower())\n",
        "         index -= 1\n",
        "    print(''.join(my_list1))"
      ]
    }
  ]
}
